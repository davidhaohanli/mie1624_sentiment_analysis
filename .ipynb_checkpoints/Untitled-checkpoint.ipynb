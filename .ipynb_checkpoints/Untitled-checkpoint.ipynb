{
 "cells": [
  {
   "cell_type": "markdown",
   "metadata": {},
   "source": [
    "# Assignment 1\n",
    "## Sentiment Analysis <br\\>"
   ]
  },
  {
   "cell_type": "markdown",
   "metadata": {},
   "source": [
    "### Pre - Dependencies and File Loading"
   ]
  },
  {
   "cell_type": "code",
   "execution_count": 1,
   "metadata": {
    "collapsed": true
   },
   "outputs": [],
   "source": [
    "%matplotlib inline"
   ]
  },
  {
   "cell_type": "code",
   "execution_count": 34,
   "metadata": {
    "collapsed": true
   },
   "outputs": [],
   "source": [
    "import pandas as pd\n",
    "import re\n",
    "import numpy as np\n",
    "import html\n",
    "import warnings\n",
    "from functools import reduce\n",
    "from collections import OrderedDict as od\n",
    "import matplotlib.pyplot as plt"
   ]
  },
  {
   "cell_type": "code",
   "execution_count": 3,
   "metadata": {
    "collapsed": true
   },
   "outputs": [],
   "source": [
    "#load unclassified data\n",
    "unclassified = list()\n",
    "with open('unclassified_tweets.txt','r') as f:\n",
    "    for data in f.readlines():\n",
    "        if data.strip():\n",
    "            unclassified.append(data.strip())\n",
    "        \n",
    "#conatain in a dataframe for future use \n",
    "unclassified = pd.DataFrame(unclassified,columns=['text'])"
   ]
  },
  {
   "cell_type": "code",
   "execution_count": 4,
   "metadata": {
    "collapsed": true
   },
   "outputs": [],
   "source": [
    "#load unclassified data\n",
    "classified = pd.read_csv('classified_tweets.txt')"
   ]
  },
  {
   "cell_type": "code",
   "execution_count": 5,
   "metadata": {
    "collapsed": true
   },
   "outputs": [],
   "source": [
    "#load stop words\n",
    "stop_words = list()\n",
    "with open('stop_words.txt','r') as f:\n",
    "    for stop_word in f.readlines():\n",
    "        if data.strip():\n",
    "            stop_words.append(stop_word.strip())"
   ]
  },
  {
   "cell_type": "markdown",
   "metadata": {},
   "source": [
    "### Q1 - Data Cleaning\n",
    "Creat a data cleaner class to perform the data cleaning procedure in sequence:\n",
    "- Encode according to ASCII\n",
    "- Remove html tag\n",
    "- Remove url\n",
    "- Change to lower cases\n",
    "- remove stop words\n",
    "- Remove all non-alphanumerical charactors"
   ]
  },
  {
   "cell_type": "code",
   "execution_count": 6,
   "metadata": {
    "collapsed": true
   },
   "outputs": [],
   "source": [
    "class DataCleaner(object):\n",
    "    \n",
    "    def __init__(self,stopWords,removeProcudreInd:int=False):\n",
    "        super().__init__()\n",
    "        self.stopwords=set(stopWords) #hash it for O(1) check\n",
    "        \n",
    "        #use reflection to define the cleaning pipeline -> form of list of method pointers, sorted by name\n",
    "        self.procedures = [getattr(self,attr) for attr in \\\n",
    "                           re.findall(r'(run_.*?)(?:\\s)',' '.join(sorted(dir(self))))]\n",
    "        \n",
    "        #drop the disired procudure if user needs\n",
    "        if removeProcudreInd is not False:\n",
    "            self.procedures.pop(removeProcudreInd-1)\n",
    "            \n",
    "    #use reduce to sequentially clean the raw data, equivelent to funcN(...func2(func1(data)))\n",
    "    def clean(self,data):\n",
    "        return reduce(lambda data,func:func(data),[data]+self.procedures)\n",
    "    \n",
    "    def run_01_to_ascii(self,data):\n",
    "        return html.unescape(data)\n",
    "    \n",
    "    #remove html tag in form of <...>\n",
    "    def run_02_remove_html_tag(self,data):\n",
    "        return re.sub(r\"\\s*<.*?>\",'', data)\n",
    "    \n",
    "    #remove url in form of (http or https://)address.domain(/file)\n",
    "    def run_03_remove_url(self,data):\n",
    "        return re.sub(r'\\s*(?:https?:\\/\\/)?[\\w.-]+(?:\\.[\\w.-]+)+[\\w\\-._~:/?#[\\]@!\\$&\\'\\(\\)\\*\\+,;=.]+','',data)\n",
    "\n",
    "    def run_04_to_lower(self,data):\n",
    "        return data.lower()\n",
    "    \n",
    "    def run_06_remove_all_nonAlphaNumerical_char(self,data):\n",
    "        return re.sub(r'[^\\s\\w]+','',data)\n",
    "    \n",
    "    def run_05_remove_stop_words(self,data):\n",
    "        words = data.split()\n",
    "        for ind,word in enumerate(words):\n",
    "            if word in self.stopwords:\n",
    "                words[ind]=''\n",
    "        return ' '.join(filter(lambda x:x, words)) #clean up empty charactor"
   ]
  },
  {
   "cell_type": "code",
   "execution_count": 7,
   "metadata": {
    "collapsed": true
   },
   "outputs": [],
   "source": [
    "#create a data cleaner instance\n",
    "thisDataCleaner = DataCleaner(stop_words)"
   ]
  },
  {
   "cell_type": "code",
   "execution_count": 8,
   "metadata": {
    "collapsed": true
   },
   "outputs": [],
   "source": [
    "#clean all the unclassified text in pandas with vectorized method\n",
    "unclassified['text'] = np.vectorize(thisDataCleaner.clean)(unclassified['text'])"
   ]
  },
  {
   "cell_type": "code",
   "execution_count": 29,
   "metadata": {},
   "outputs": [
    {
     "data": {
      "text/html": [
       "<div>\n",
       "<style>\n",
       "    .dataframe thead tr:only-child th {\n",
       "        text-align: right;\n",
       "    }\n",
       "\n",
       "    .dataframe thead th {\n",
       "        text-align: left;\n",
       "    }\n",
       "\n",
       "    .dataframe tbody tr th {\n",
       "        vertical-align: top;\n",
       "    }\n",
       "</style>\n",
       "<table border=\"1\" class=\"dataframe\">\n",
       "  <thead>\n",
       "    <tr style=\"text-align: right;\">\n",
       "      <th></th>\n",
       "      <th>text</th>\n",
       "      <th>party labels</th>\n",
       "      <th>class</th>\n",
       "    </tr>\n",
       "  </thead>\n",
       "  <tbody>\n",
       "    <tr>\n",
       "      <th>0</th>\n",
       "      <td>living dream cameraman camera cameraception ca...</td>\n",
       "      <td>(New Democratic)</td>\n",
       "      <td>0</td>\n",
       "    </tr>\n",
       "    <tr>\n",
       "      <th>1</th>\n",
       "      <td>justin trudeaus reasons thanksgiving todays mo...</td>\n",
       "      <td>(Liberal)</td>\n",
       "      <td>1</td>\n",
       "    </tr>\n",
       "    <tr>\n",
       "      <th>2</th>\n",
       "      <td>themadape buttre allergic latex sneeze nbpoli ...</td>\n",
       "      <td>()</td>\n",
       "      <td>0</td>\n",
       "    </tr>\n",
       "    <tr>\n",
       "      <th>3</th>\n",
       "      <td>2 massive explosions peace march turkey 30 kil...</td>\n",
       "      <td>()</td>\n",
       "      <td>0</td>\n",
       "    </tr>\n",
       "    <tr>\n",
       "      <th>4</th>\n",
       "      <td>mulcair suggests theres bad blood trudeau read...</td>\n",
       "      <td>(Liberal, New Democratic)</td>\n",
       "      <td>0</td>\n",
       "    </tr>\n",
       "  </tbody>\n",
       "</table>\n",
       "</div>"
      ],
      "text/plain": [
       "                                                text  \\\n",
       "0  living dream cameraman camera cameraception ca...   \n",
       "1  justin trudeaus reasons thanksgiving todays mo...   \n",
       "2  themadape buttre allergic latex sneeze nbpoli ...   \n",
       "3  2 massive explosions peace march turkey 30 kil...   \n",
       "4  mulcair suggests theres bad blood trudeau read...   \n",
       "\n",
       "                party labels  class  \n",
       "0           (New Democratic)      0  \n",
       "1                  (Liberal)      1  \n",
       "2                         ()      0  \n",
       "3                         ()      0  \n",
       "4  (Liberal, New Democratic)      0  "
      ]
     },
     "execution_count": 29,
     "metadata": {},
     "output_type": "execute_result"
    }
   ],
   "source": [
    "unclassified.head()"
   ]
  },
  {
   "cell_type": "code",
   "execution_count": 10,
   "metadata": {
    "collapsed": true
   },
   "outputs": [],
   "source": [
    "#clean all the classified text in pandas with vectorized method\n",
    "classified['text'] = np.vectorize(thisDataCleaner.clean)(classified['text'])"
   ]
  },
  {
   "cell_type": "code",
   "execution_count": 30,
   "metadata": {},
   "outputs": [
    {
     "data": {
      "text/html": [
       "<div>\n",
       "<style>\n",
       "    .dataframe thead tr:only-child th {\n",
       "        text-align: right;\n",
       "    }\n",
       "\n",
       "    .dataframe thead th {\n",
       "        text-align: left;\n",
       "    }\n",
       "\n",
       "    .dataframe tbody tr th {\n",
       "        vertical-align: top;\n",
       "    }\n",
       "</style>\n",
       "<table border=\"1\" class=\"dataframe\">\n",
       "  <thead>\n",
       "    <tr style=\"text-align: right;\">\n",
       "      <th></th>\n",
       "      <th>class</th>\n",
       "      <th>id</th>\n",
       "      <th>date</th>\n",
       "      <th>query</th>\n",
       "      <th>user</th>\n",
       "      <th>text</th>\n",
       "      <th>party labels</th>\n",
       "      <th>binarized</th>\n",
       "    </tr>\n",
       "  </thead>\n",
       "  <tbody>\n",
       "    <tr>\n",
       "      <th>0</th>\n",
       "      <td>0</td>\n",
       "      <td>1467810369</td>\n",
       "      <td>Mon Apr 06 22:19:45 PDT 2009</td>\n",
       "      <td>NO_QUERY</td>\n",
       "      <td>_TheSpecialOne_</td>\n",
       "      <td>switchfoot  awww thats bummer shoulda david ca...</td>\n",
       "      <td>()</td>\n",
       "      <td>0</td>\n",
       "    </tr>\n",
       "    <tr>\n",
       "      <th>1</th>\n",
       "      <td>0</td>\n",
       "      <td>1467810672</td>\n",
       "      <td>Mon Apr 06 22:19:49 PDT 2009</td>\n",
       "      <td>NO_QUERY</td>\n",
       "      <td>scotthamilton</td>\n",
       "      <td>upset update facebook texting cry result schoo...</td>\n",
       "      <td>()</td>\n",
       "      <td>0</td>\n",
       "    </tr>\n",
       "    <tr>\n",
       "      <th>2</th>\n",
       "      <td>0</td>\n",
       "      <td>1467810917</td>\n",
       "      <td>Mon Apr 06 22:19:53 PDT 2009</td>\n",
       "      <td>NO_QUERY</td>\n",
       "      <td>mattycus</td>\n",
       "      <td>kenichan dived times ball managed save 50 rest...</td>\n",
       "      <td>()</td>\n",
       "      <td>0</td>\n",
       "    </tr>\n",
       "    <tr>\n",
       "      <th>3</th>\n",
       "      <td>0</td>\n",
       "      <td>1467811184</td>\n",
       "      <td>Mon Apr 06 22:19:57 PDT 2009</td>\n",
       "      <td>NO_QUERY</td>\n",
       "      <td>ElleCTF</td>\n",
       "      <td>body feels itchy fire</td>\n",
       "      <td>()</td>\n",
       "      <td>0</td>\n",
       "    </tr>\n",
       "    <tr>\n",
       "      <th>4</th>\n",
       "      <td>0</td>\n",
       "      <td>1467811193</td>\n",
       "      <td>Mon Apr 06 22:19:57 PDT 2009</td>\n",
       "      <td>NO_QUERY</td>\n",
       "      <td>Karoli</td>\n",
       "      <td>nationwideclass no its behaving all im mad her...</td>\n",
       "      <td>()</td>\n",
       "      <td>0</td>\n",
       "    </tr>\n",
       "  </tbody>\n",
       "</table>\n",
       "</div>"
      ],
      "text/plain": [
       "   class          id                          date     query             user  \\\n",
       "0      0  1467810369  Mon Apr 06 22:19:45 PDT 2009  NO_QUERY  _TheSpecialOne_   \n",
       "1      0  1467810672  Mon Apr 06 22:19:49 PDT 2009  NO_QUERY    scotthamilton   \n",
       "2      0  1467810917  Mon Apr 06 22:19:53 PDT 2009  NO_QUERY         mattycus   \n",
       "3      0  1467811184  Mon Apr 06 22:19:57 PDT 2009  NO_QUERY          ElleCTF   \n",
       "4      0  1467811193  Mon Apr 06 22:19:57 PDT 2009  NO_QUERY           Karoli   \n",
       "\n",
       "                                                text party labels  binarized  \n",
       "0  switchfoot  awww thats bummer shoulda david ca...           ()          0  \n",
       "1  upset update facebook texting cry result schoo...           ()          0  \n",
       "2  kenichan dived times ball managed save 50 rest...           ()          0  \n",
       "3                              body feels itchy fire           ()          0  \n",
       "4  nationwideclass no its behaving all im mad her...           ()          0  "
      ]
     },
     "execution_count": 30,
     "metadata": {},
     "output_type": "execute_result"
    }
   ],
   "source": [
    "classified.head()"
   ]
  },
  {
   "cell_type": "markdown",
   "metadata": {},
   "source": [
    "### Q2 - Exploratory Analysis\n",
    "Creat a party labeller class to perform party labelling procedure.  \n",
    "One tweeter may contains multiples of parties mentioned in the text.  \n",
    "Count them all, sort in a seperate pandas series and plot by bar chart and pie chart.   "
   ]
  },
  {
   "cell_type": "code",
   "execution_count": 12,
   "metadata": {},
   "outputs": [],
   "source": [
    "class PartyLabeller(object):\n",
    "    \n",
    "    #default party dictionary -> {party:keywords}\n",
    "    partyDict ={'Liberal': {'lpc', 'liberal', 'liberals', 'realchange', \\\n",
    "                        'justin', 'trudeau', 'trudeaus', 'justintrudeau'},\\\n",
    "            \n",
    "            'Conservative':{'cpc', 'conservative', 'conservatives', 'stephenharper', \\\n",
    "                              'stephen' 'harper', 'harpers','tcot'},\\\n",
    "            \n",
    "            'New Democratic':{'ndp', 'npd','tommulcair', 'tommulcairs', 'thomasmulcair',\\\n",
    "                   'readyforchange', 'ready4change', 'mulcair', 'mulcairs'}}\n",
    "    \n",
    "    @staticmethod\n",
    "    def partyDictMod(partyDict:dict):\n",
    "        for key in partyDict:\n",
    "            if not partyDict[key]:\n",
    "                raise Exception('Void dictionary value is not valid: {}'.format({key:partyDict[key]}))\n",
    "        PartyLabeller.partyDict = partyDict            \n",
    "        warnings.warn(\"Party dictionary changed, reinitialize existing instance if needed.\")\n",
    "                \n",
    "    def __init__(self,partyDict:dict=False):\n",
    "        super().__init__()\n",
    "        if partyDict is False:\n",
    "            partyDict = PartyLabeller.partyDict\n",
    "        #flip (invert) the map, in use for O(1) check -> target form: {keyword:party}\n",
    "        self.partyDict = {keyWord: party for party,keyWords in partyDict.items() for keyWord in keyWords}\n",
    "        \n",
    "    def label_party(self,data):\n",
    "        #traversal candidate key words, return the party label if match found. contain in a frozenset for hashable\n",
    "        return frozenset([self.partyDict[keyWord] for keyWord in self.partyDict if re.match('.*'+keyWord+'.*',data)])"
   ]
  },
  {
   "cell_type": "code",
   "execution_count": 13,
   "metadata": {
    "collapsed": true
   },
   "outputs": [],
   "source": [
    "#create a data cleaner instance\n",
    "thisPartyLabller = PartyLabeller()"
   ]
  },
  {
   "cell_type": "code",
   "execution_count": 31,
   "metadata": {},
   "outputs": [
    {
     "data": {
      "text/html": [
       "<div>\n",
       "<style>\n",
       "    .dataframe thead tr:only-child th {\n",
       "        text-align: right;\n",
       "    }\n",
       "\n",
       "    .dataframe thead th {\n",
       "        text-align: left;\n",
       "    }\n",
       "\n",
       "    .dataframe tbody tr th {\n",
       "        vertical-align: top;\n",
       "    }\n",
       "</style>\n",
       "<table border=\"1\" class=\"dataframe\">\n",
       "  <thead>\n",
       "    <tr style=\"text-align: right;\">\n",
       "      <th></th>\n",
       "      <th>text</th>\n",
       "      <th>party labels</th>\n",
       "      <th>class</th>\n",
       "    </tr>\n",
       "  </thead>\n",
       "  <tbody>\n",
       "    <tr>\n",
       "      <th>0</th>\n",
       "      <td>living dream cameraman camera cameraception ca...</td>\n",
       "      <td>(New Democratic)</td>\n",
       "      <td>0</td>\n",
       "    </tr>\n",
       "    <tr>\n",
       "      <th>1</th>\n",
       "      <td>justin trudeaus reasons thanksgiving todays mo...</td>\n",
       "      <td>(Liberal)</td>\n",
       "      <td>1</td>\n",
       "    </tr>\n",
       "    <tr>\n",
       "      <th>2</th>\n",
       "      <td>themadape buttre allergic latex sneeze nbpoli ...</td>\n",
       "      <td>()</td>\n",
       "      <td>0</td>\n",
       "    </tr>\n",
       "    <tr>\n",
       "      <th>3</th>\n",
       "      <td>2 massive explosions peace march turkey 30 kil...</td>\n",
       "      <td>()</td>\n",
       "      <td>0</td>\n",
       "    </tr>\n",
       "    <tr>\n",
       "      <th>4</th>\n",
       "      <td>mulcair suggests theres bad blood trudeau read...</td>\n",
       "      <td>(Liberal, New Democratic)</td>\n",
       "      <td>0</td>\n",
       "    </tr>\n",
       "  </tbody>\n",
       "</table>\n",
       "</div>"
      ],
      "text/plain": [
       "                                                text  \\\n",
       "0  living dream cameraman camera cameraception ca...   \n",
       "1  justin trudeaus reasons thanksgiving todays mo...   \n",
       "2  themadape buttre allergic latex sneeze nbpoli ...   \n",
       "3  2 massive explosions peace march turkey 30 kil...   \n",
       "4  mulcair suggests theres bad blood trudeau read...   \n",
       "\n",
       "                party labels  class  \n",
       "0           (New Democratic)      0  \n",
       "1                  (Liberal)      1  \n",
       "2                         ()      0  \n",
       "3                         ()      0  \n",
       "4  (Liberal, New Democratic)      0  "
      ]
     },
     "execution_count": 31,
     "metadata": {},
     "output_type": "execute_result"
    }
   ],
   "source": [
    "#label the unclassified text in pandas with vectorized method\n",
    "unclassified['party labels'] = np.vectorize(thisPartyLabller.label_party)(unclassified['text'])\n",
    "unclassified.head()"
   ]
  },
  {
   "cell_type": "code",
   "execution_count": 17,
   "metadata": {},
   "outputs": [
    {
     "data": {
      "text/plain": [
       "<matplotlib.axes._subplots.AxesSubplot at 0x7f0ce1d04198>"
      ]
     },
     "execution_count": 17,
     "metadata": {},
     "output_type": "execute_result"
    },
    {
     "data": {
      "image/png": "[encoded data removed]",
      "text/plain": [
       "<matplotlib.figure.Figure at 0x7f0cde3c1a58>"
      ]
     },
     "metadata": {},
     "output_type": "display_data"
    }
   ],
   "source": [
    "#Count the party tags\n",
    "unclassifiedLabelCounter = {key:0 for key in PartyLabeller.partyDict}\n",
    "for labels,value in unclassified.groupby('party labels').size()[1:].iteritems():\n",
    "    for key in labels:\n",
    "        unclassifiedLabelCounter[key] += value\n",
    "\n",
    "unclassifiedLabelCounter = pd.Series(unclassifiedLabelCounter)\n",
    "unclassifiedLabelCounter.plot(kind='bar',title='Party Tag Distribution in Unclassified')"
   ]
  },
  {
   "cell_type": "code",
   "execution_count": 18,
   "metadata": {},
   "outputs": [
    {
     "data": {
      "text/plain": [
       "<matplotlib.axes._subplots.AxesSubplot at 0x7f0ce171a358>"
      ]
     },
     "execution_count": 18,
     "metadata": {},
     "output_type": "execute_result"
    },
    {
     "data": {
      "image/png": "[encoded data removed]",
      "text/plain": [
       "<matplotlib.figure.Figure at 0x7f0cddf6d4e0>"
      ]
     },
     "metadata": {},
     "output_type": "display_data"
    }
   ],
   "source": [
    "unclassifiedLabelCounter.plot(kind='pie',title='Party Tag Percentage in Unclassified')"
   ]
  },
  {
   "cell_type": "code",
   "execution_count": 32,
   "metadata": {},
   "outputs": [
    {
     "data": {
      "text/html": [
       "<div>\n",
       "<style>\n",
       "    .dataframe thead tr:only-child th {\n",
       "        text-align: right;\n",
       "    }\n",
       "\n",
       "    .dataframe thead th {\n",
       "        text-align: left;\n",
       "    }\n",
       "\n",
       "    .dataframe tbody tr th {\n",
       "        vertical-align: top;\n",
       "    }\n",
       "</style>\n",
       "<table border=\"1\" class=\"dataframe\">\n",
       "  <thead>\n",
       "    <tr style=\"text-align: right;\">\n",
       "      <th></th>\n",
       "      <th>class</th>\n",
       "      <th>id</th>\n",
       "      <th>date</th>\n",
       "      <th>query</th>\n",
       "      <th>user</th>\n",
       "      <th>text</th>\n",
       "      <th>party labels</th>\n",
       "      <th>binarized</th>\n",
       "    </tr>\n",
       "  </thead>\n",
       "  <tbody>\n",
       "    <tr>\n",
       "      <th>0</th>\n",
       "      <td>0</td>\n",
       "      <td>1467810369</td>\n",
       "      <td>Mon Apr 06 22:19:45 PDT 2009</td>\n",
       "      <td>NO_QUERY</td>\n",
       "      <td>_TheSpecialOne_</td>\n",
       "      <td>switchfoot  awww thats bummer shoulda david ca...</td>\n",
       "      <td>()</td>\n",
       "      <td>0</td>\n",
       "    </tr>\n",
       "    <tr>\n",
       "      <th>1</th>\n",
       "      <td>0</td>\n",
       "      <td>1467810672</td>\n",
       "      <td>Mon Apr 06 22:19:49 PDT 2009</td>\n",
       "      <td>NO_QUERY</td>\n",
       "      <td>scotthamilton</td>\n",
       "      <td>upset update facebook texting cry result schoo...</td>\n",
       "      <td>()</td>\n",
       "      <td>0</td>\n",
       "    </tr>\n",
       "    <tr>\n",
       "      <th>2</th>\n",
       "      <td>0</td>\n",
       "      <td>1467810917</td>\n",
       "      <td>Mon Apr 06 22:19:53 PDT 2009</td>\n",
       "      <td>NO_QUERY</td>\n",
       "      <td>mattycus</td>\n",
       "      <td>kenichan dived times ball managed save 50 rest...</td>\n",
       "      <td>()</td>\n",
       "      <td>0</td>\n",
       "    </tr>\n",
       "    <tr>\n",
       "      <th>3</th>\n",
       "      <td>0</td>\n",
       "      <td>1467811184</td>\n",
       "      <td>Mon Apr 06 22:19:57 PDT 2009</td>\n",
       "      <td>NO_QUERY</td>\n",
       "      <td>ElleCTF</td>\n",
       "      <td>body feels itchy fire</td>\n",
       "      <td>()</td>\n",
       "      <td>0</td>\n",
       "    </tr>\n",
       "    <tr>\n",
       "      <th>4</th>\n",
       "      <td>0</td>\n",
       "      <td>1467811193</td>\n",
       "      <td>Mon Apr 06 22:19:57 PDT 2009</td>\n",
       "      <td>NO_QUERY</td>\n",
       "      <td>Karoli</td>\n",
       "      <td>nationwideclass no its behaving all im mad her...</td>\n",
       "      <td>()</td>\n",
       "      <td>0</td>\n",
       "    </tr>\n",
       "  </tbody>\n",
       "</table>\n",
       "</div>"
      ],
      "text/plain": [
       "   class          id                          date     query             user  \\\n",
       "0      0  1467810369  Mon Apr 06 22:19:45 PDT 2009  NO_QUERY  _TheSpecialOne_   \n",
       "1      0  1467810672  Mon Apr 06 22:19:49 PDT 2009  NO_QUERY    scotthamilton   \n",
       "2      0  1467810917  Mon Apr 06 22:19:53 PDT 2009  NO_QUERY         mattycus   \n",
       "3      0  1467811184  Mon Apr 06 22:19:57 PDT 2009  NO_QUERY          ElleCTF   \n",
       "4      0  1467811193  Mon Apr 06 22:19:57 PDT 2009  NO_QUERY           Karoli   \n",
       "\n",
       "                                                text party labels  binarized  \n",
       "0  switchfoot  awww thats bummer shoulda david ca...           ()          0  \n",
       "1  upset update facebook texting cry result schoo...           ()          0  \n",
       "2  kenichan dived times ball managed save 50 rest...           ()          0  \n",
       "3                              body feels itchy fire           ()          0  \n",
       "4  nationwideclass no its behaving all im mad her...           ()          0  "
      ]
     },
     "execution_count": 32,
     "metadata": {},
     "output_type": "execute_result"
    }
   ],
   "source": [
    "#label the classified text in pandas with vectorized method\n",
    "classified['party labels'] = np.vectorize(thisPartyLabller.label_party)(classified['text'])\n",
    "classified.head()"
   ]
  },
  {
   "cell_type": "code",
   "execution_count": 20,
   "metadata": {
    "scrolled": true
   },
   "outputs": [
    {
     "data": {
      "text/plain": [
       "<matplotlib.axes._subplots.AxesSubplot at 0x7f0ce1e5cc18>"
      ]
     },
     "execution_count": 20,
     "metadata": {},
     "output_type": "execute_result"
    },
    {
     "data": {
      "image/png": "[encoded data removed]",
      "text/plain": [
       "<matplotlib.figure.Figure at 0x7f0ce1e68cf8>"
      ]
     },
     "metadata": {},
     "output_type": "display_data"
    }
   ],
   "source": [
    "#Count the party tags\n",
    "classifiedLabelCounter = {key:0 for key in PartyLabeller.partyDict}\n",
    "for labels,value in classified.groupby('party labels').size()[1:].iteritems():\n",
    "    for key in labels:\n",
    "        classifiedLabelCounter[key] += value\n",
    "\n",
    "classifiedLabelCounter = pd.Series(classifiedLabelCounter)\n",
    "classifiedLabelCounter.plot(kind='bar',title='Party Tag Distribution in Classified')"
   ]
  },
  {
   "cell_type": "code",
   "execution_count": 21,
   "metadata": {},
   "outputs": [
    {
     "data": {
      "text/plain": [
       "<matplotlib.axes._subplots.AxesSubplot at 0x7f0ce3222c88>"
      ]
     },
     "execution_count": 21,
     "metadata": {},
     "output_type": "execute_result"
    },
    {
     "data": {
      "image/png": "[encoded data removed]",
      "text/plain": [
       "<matplotlib.figure.Figure at 0x7f0ce22fdc50>"
      ]
     },
     "metadata": {},
     "output_type": "display_data"
    }
   ],
   "source": [
    "classifiedLabelCounter.plot(kind='pie',title='Party Tag Percentage in Classified')"
   ]
  },
  {
   "cell_type": "markdown",
   "metadata": {},
   "source": [
    "### Q3 - Model Preparation\n",
    "Prepare the data for model training and testing in sequense:\n",
    "- binarize the class tags\n",
    "- split data for 70% training use and 30% test use\n",
    "- tokenizing the text in term frequency–inverse document (TF-IDF) frequency form"
   ]
  },
  {
   "cell_type": "code",
   "execution_count": 22,
   "metadata": {
    "collapsed": true
   },
   "outputs": [],
   "source": [
    "from sklearn.feature_extraction.text import TfidfVectorizer\n",
    "from sklearn.naive_bayes import BernoulliNB as bnb\n",
    "from sklearn.svm import SVC as svc\n",
    "from sklearn.linear_model import LogisticRegression as lr\n",
    "from sklearn.naive_bayes import MultinomialNB as mnb\n",
    "from sklearn.metrics import roc_auc_score\n",
    "from sklearn.metrics import roc_curve\n",
    "from sklearn.metrics import classification_report\n",
    "from sklearn.model_selection import GridSearchCV\n",
    "from sklearn.model_selection import train_test_split"
   ]
  },
  {
   "cell_type": "code",
   "execution_count": 23,
   "metadata": {
    "collapsed": true
   },
   "outputs": [],
   "source": [
    "# binarize labels 0->0, 4->1\n",
    "classified['binarized'] = classified['class'].map(lambda x:1 if x else 0)\n",
    "\n",
    "# split data, 30% for test and 70% for training\n",
    "X_train, X_test, y_train, y_test = train_test_split(classified['text'],classified['binarized'],test_size=0.3)\n",
    "\n",
    "# transform all text data into TF-IDF features\n",
    "tfidf_vectorize = TfidfVectorizer(stop_words='english')\n",
    "X_train = tfidf_vectorize.fit_transform(X_train)\n",
    "X_test = tfidf_vectorize.transform(X_test)"
   ]
  },
  {
   "cell_type": "markdown",
   "metadata": {},
   "source": [
    "### Q4 - Model Implementation\n",
    "Creat a classifiers class to develop a set of classifiers (currently Logistic Regression, Multinomial Naive Bayes and SVM included).\n",
    "These classifiers could be constructed by training only or train with hyper-parameters tuning\n",
    "A full analysis on the classifiers would be given based on the prediction of test data "
   ]
  },
  {
   "cell_type": "code",
   "execution_count": 24,
   "metadata": {},
   "outputs": [],
   "source": [
    "class Classifiers(object):\n",
    "\n",
    "    def __init__(self,train_data,train_labels,hyperTune=True,lrOnly=True):\n",
    "        super().__init__()\n",
    "        self.train_data = train_data\n",
    "        self.train_labels = train_labels\n",
    "        self.construct_all_models(hyperTune,lrOnly)\n",
    "        \n",
    "    #3 models LR MNB and SVM\n",
    "    def construct_all_models(self,hyperTune,lrOnly):\n",
    "        if hyperTune:\n",
    "            print('''\n",
    "            \n",
    "This mode may take 3 hours or more on CPU, please be patient and have a cup of coffee... or maybe cups of\n",
    "I\\'d rather suggest run the train-only mode, which contains the optimal hyper-parameters tuned before.\n",
    "''')\n",
    "            print ('Hyper Parameter Tuning Mode:\\n')\n",
    "            self.models=od({'LogisticRegression':[lr(),dict(C=np.arange(0.1,3,0.1))],\\\n",
    "                            'MultinomialNB':[mnb(),dict(alpha=np.geomspace(1e-3, 1, 50))],\\\n",
    "                            'SVM':[svc(kernel='linear',probability=True),dict(C=np.arange(0.01, 2.01, 0.2))]})\n",
    "            for name,candidate_hyperParam in self.models.items():\n",
    "                #update each classifier after training and tuning\n",
    "                self.models[name] = self.train_with_hyperParamTuning(candidate_hyperParam[0],name,candidate_hyperParam[1])\n",
    "                if lrOnly:\n",
    "                    break;\n",
    "        else:\n",
    "            print ('Training with Default Hyper Parameters:\\n')\n",
    "            self.models=od({'LogisticRegression':lr(C=0.9),\\\n",
    "                            'MultinomialNB':mnb(alpha=0.0026826957952797246),\\\n",
    "                            'SVM':svc(kernel='linear',probability=True,C=1.21)})\n",
    "            for name,model in self.models.items():\n",
    "                #update each classifier after training\n",
    "                self.models[name] = self.train(model,name)\n",
    "                if lrOnly:\n",
    "                    break\n",
    "        print ('\\nTraining process finished\\n\\n\\n')\n",
    "    \n",
    "    # Training with hyper-parameter tuning, return the best model after exhaustive search in GridSearchCV\n",
    "    def train_with_hyperParamTuning(self,model,name,param_grid):\n",
    "        #grid search method for hyper-parameter tuning\n",
    "        grid = GridSearchCV(model, param_grid, cv=10, scoring='accuracy', n_jobs=-1) # keep 10% for cross validation\n",
    "        grid.fit(self.train_data, self.train_labels)\n",
    "        print(\n",
    "            '\\n-> The best hyper-parameter for {} is {}, the corresponding score through 10 Fold test is {} \\n'\\\n",
    "            .format(name, grid.best_params_, grid.best_score_))\n",
    "\n",
    "        bestModel = grid.best_estimator_\n",
    "        train_pred = bestModel.predict(self.train_data)\n",
    "        print(' {} train accuracy = {}\\n'.format(name,(train_pred == self.train_labels).mean()))\n",
    "        return bestModel\n",
    "    \n",
    "    # Training only\n",
    "    def train(self,model,name):\n",
    "        model = model.fit(self.train_data,self.train_labels)\n",
    "        train_pred = model.predict(self.train_data)\n",
    "        print(' \\n-> {} train accuracy = {}\\n'.format(name,(train_pred == self.train_labels).mean()))\n",
    "        return model\n",
    "    \n",
    "    #offer all the metrics for the classifier\n",
    "    def prediction_metrics(self,test_data,test_labels,name):\n",
    "        try:\n",
    "            pred_labels = self.models[name].predict(test_data)\n",
    "        except:\n",
    "            print('Model not trained yet')\n",
    "            return\n",
    "        \n",
    "        #accuracy\n",
    "        print('-> Test Accuracy: {} test accuracy = {}\\n'.format(name,(pred_labels == test_labels).mean()))\n",
    "        \n",
    "        #report\n",
    "        print('\\n-> General Report:\\n\\n',classification_report(test_labels, pred_labels),'\\n')\n",
    "        \n",
    "        #AUC (Area Under Curve) of ROC\n",
    "        prob = self.models[name].predict_proba(test_data)\n",
    "        auc=roc_auc_score(test_labels.reshape(-1),prob[:,1])\n",
    "        print('\\n-> ROC plot and Corresponding AUC: \\n\\n Classifier {} area under curve of ROC is {}\\n'.format(name,auc))\n",
    "\n",
    "        #ROC\n",
    "        fpr, tpr, thresholds = roc_curve(test_labels.values.reshape(-1), prob[:,1], pos_label=1)\n",
    "        self.roc_plot(fpr,tpr,name,auc)\n",
    "        \n",
    "    #plot ROC\n",
    "    def roc_plot(self,fpr,tpr,name,auc):\n",
    "        plt.figure(figsize=(20,5))\n",
    "        plt.plot(fpr,tpr)\n",
    "        plt.ylim([0.0,1.0])\n",
    "        plt.ylim([0.0, 1.0])\n",
    "        plt.title('ROC of {}     AUC: {}'.format(name,auc))\n",
    "        plt.xlabel('False Positive Rate')\n",
    "        plt.ylabel('True Positive Rate')\n",
    "        plt.grid(True)\n",
    "        plt.show()"
   ]
  },
  {
   "cell_type": "code",
   "execution_count": 25,
   "metadata": {},
   "outputs": [
    {
     "name": "stdout",
     "output_type": "stream",
     "text": [
      "Training with Default Hyper Parameters:\n",
      "\n",
      " \n",
      "-> LogisticRegression train accuracy = 0.8195428571428571\n",
      "\n",
      "\n",
      "Training process finished\n",
      "\n",
      "\n",
      "\n"
     ]
    }
   ],
   "source": [
    "thisClassifiers = Classifiers(X_train,y_train,hyperTune=False,lrOnly=True)"
   ]
  },
  {
   "cell_type": "code",
   "execution_count": 26,
   "metadata": {
    "scrolled": false
   },
   "outputs": [
    {
     "name": "stdout",
     "output_type": "stream",
     "text": [
      "-> Test Accuracy: LogisticRegression test accuracy = 0.7389833333333333\n",
      "\n",
      "\n",
      "-> General Report:\n",
      "\n",
      "              precision    recall  f1-score   support\n",
      "\n",
      "          0       0.76      0.71      0.73     30205\n",
      "          1       0.72      0.77      0.75     29795\n",
      "\n",
      "avg / total       0.74      0.74      0.74     60000\n",
      " \n",
      "\n",
      "\n",
      "-> ROC plot and Corresponding AUC: \n",
      "\n",
      " Classifier LogisticRegression area under curve of ROC is 0.8197122348963017\n",
      "\n"
     ]
    },
    {
     "name": "stderr",
     "output_type": "stream",
     "text": [
      "/u/d/lihaoha2/anaconda3/lib/python3.6/site-packages/ipykernel_launcher.py:71: FutureWarning: reshape is deprecated and will raise in a subsequent release. Please use .values.reshape(...) instead\n"
     ]
    },
    {
     "data": {
      "image/png": "[encoded data removed]",
      "text/plain": [
       "<matplotlib.figure.Figure at 0x7f0d14062208>"
      ]
     },
     "metadata": {},
     "output_type": "display_data"
    }
   ],
   "source": [
    "thisClassifiers.prediction_metrics(X_test,y_test,'LogisticRegression')"
   ]
  },
  {
   "cell_type": "code",
   "execution_count": 33,
   "metadata": {
    "scrolled": true
   },
   "outputs": [
    {
     "data": {
      "text/html": [
       "<div>\n",
       "<style>\n",
       "    .dataframe thead tr:only-child th {\n",
       "        text-align: right;\n",
       "    }\n",
       "\n",
       "    .dataframe thead th {\n",
       "        text-align: left;\n",
       "    }\n",
       "\n",
       "    .dataframe tbody tr th {\n",
       "        vertical-align: top;\n",
       "    }\n",
       "</style>\n",
       "<table border=\"1\" class=\"dataframe\">\n",
       "  <thead>\n",
       "    <tr style=\"text-align: right;\">\n",
       "      <th></th>\n",
       "      <th>text</th>\n",
       "      <th>party labels</th>\n",
       "      <th>class</th>\n",
       "    </tr>\n",
       "  </thead>\n",
       "  <tbody>\n",
       "    <tr>\n",
       "      <th>0</th>\n",
       "      <td>living dream cameraman camera cameraception ca...</td>\n",
       "      <td>(New Democratic)</td>\n",
       "      <td>0</td>\n",
       "    </tr>\n",
       "    <tr>\n",
       "      <th>1</th>\n",
       "      <td>justin trudeaus reasons thanksgiving todays mo...</td>\n",
       "      <td>(Liberal)</td>\n",
       "      <td>1</td>\n",
       "    </tr>\n",
       "    <tr>\n",
       "      <th>2</th>\n",
       "      <td>themadape buttre allergic latex sneeze nbpoli ...</td>\n",
       "      <td>()</td>\n",
       "      <td>0</td>\n",
       "    </tr>\n",
       "    <tr>\n",
       "      <th>3</th>\n",
       "      <td>2 massive explosions peace march turkey 30 kil...</td>\n",
       "      <td>()</td>\n",
       "      <td>0</td>\n",
       "    </tr>\n",
       "    <tr>\n",
       "      <th>4</th>\n",
       "      <td>mulcair suggests theres bad blood trudeau read...</td>\n",
       "      <td>(Liberal, New Democratic)</td>\n",
       "      <td>0</td>\n",
       "    </tr>\n",
       "  </tbody>\n",
       "</table>\n",
       "</div>"
      ],
      "text/plain": [
       "                                                text  \\\n",
       "0  living dream cameraman camera cameraception ca...   \n",
       "1  justin trudeaus reasons thanksgiving todays mo...   \n",
       "2  themadape buttre allergic latex sneeze nbpoli ...   \n",
       "3  2 massive explosions peace march turkey 30 kil...   \n",
       "4  mulcair suggests theres bad blood trudeau read...   \n",
       "\n",
       "                party labels  class  \n",
       "0           (New Democratic)      0  \n",
       "1                  (Liberal)      1  \n",
       "2                         ()      0  \n",
       "3                         ()      0  \n",
       "4  (Liberal, New Democratic)      0  "
      ]
     },
     "execution_count": 33,
     "metadata": {},
     "output_type": "execute_result"
    }
   ],
   "source": [
    "#Extract the TF-IDF features of unclassified text and pre\n",
    "unclassified['class'] = thisClassifiers.models['LogisticRegression'].predict(\\\n",
    "                                                            tfidf_vectorize.transform(unclassified['text']))\n",
    "unclassified.head()"
   ]
  },
  {
   "cell_type": "code",
   "execution_count": null,
   "metadata": {},
   "outputs": [],
   "source": [
    "#Count the party tags\n",
    "unclassifiedLabelCounter = {key:0 for key in PartyLabeller.partyDict}\n",
    "for labels,value in unclassified.groupby('party labels').size()[1:].iteritems():\n",
    "    for key in labels:\n",
    "        unclassifiedLabelCounter[key] += value\n",
    "\n",
    "unclassifiedLabelCounter = pd.Series(unclassifiedLabelCounter)\n",
    "unclassifiedLabelCounter.plot(kind='bar',title='Party Tag Distribution in Unclassified')"
   ]
  },
  {
   "cell_type": "markdown",
   "metadata": {},
   "source": [
    "### Q5 - Discussion\n"
   ]
  },
  {
   "cell_type": "code",
   "execution_count": null,
   "metadata": {
    "collapsed": true
   },
   "outputs": [],
   "source": []
  }
 ],
 "metadata": {
  "kernelspec": {
   "display_name": "Python 3",
   "language": "python",
   "name": "python3"
  },
  "language_info": {
   "codemirror_mode": {
    "name": "ipython",
    "version": 3
   },
   "file_extension": ".py",
   "mimetype": "text/x-python",
   "name": "python",
   "nbconvert_exporter": "python",
   "pygments_lexer": "ipython3",
   "version": "3.6.2"
  }
 },
 "nbformat": 4,
 "nbformat_minor": 2
}
